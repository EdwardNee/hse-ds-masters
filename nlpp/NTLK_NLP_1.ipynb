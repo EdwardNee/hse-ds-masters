{
  "nbformat": 4,
  "nbformat_minor": 0,
  "metadata": {
    "colab": {
      "provenance": [],
      "collapsed_sections": [
        "Cjz1KezGOU1C",
        "0drsLwNqNw4G"
      ]
    },
    "kernelspec": {
      "name": "python3",
      "display_name": "Python 3"
    },
    "language_info": {
      "name": "python"
    }
  },
  "cells": [
    {
      "cell_type": "code",
      "source": [
        "import random\n",
        "import nltk\n",
        "from nltk import trigrams\n",
        "import urllib"
      ],
      "metadata": {
        "id": "ckRQYTCpM0Si"
      },
      "execution_count": 1,
      "outputs": []
    },
    {
      "cell_type": "markdown",
      "source": [
        "# **HW 1**"
      ],
      "metadata": {
        "id": "ME4D401hor8w"
      }
    },
    {
      "cell_type": "markdown",
      "source": [
        "### Task 1. Доработайте функцию generate, чтобы она работала на триграммах, а не биграммах. То есть подбирала следующее слово текста на основе двух предыдущих, а не одного."
      ],
      "metadata": {
        "id": "Cjz1KezGOU1C"
      }
    },
    {
      "cell_type": "code",
      "source": [
        "nltk.download('book')"
      ],
      "metadata": {
        "id": "8sDCH3AANdiA"
      },
      "execution_count": null,
      "outputs": []
    },
    {
      "cell_type": "code",
      "source": [
        "from nltk.book import *"
      ],
      "metadata": {
        "id": "dUQPkZ7NNmXN"
      },
      "execution_count": null,
      "outputs": []
    },
    {
      "cell_type": "code",
      "source": [
        "url = 'https://www.gutenberg.org/cache/epub/72839/pg72839.txt'\n",
        "request = urllib.request.urlopen(url)\n",
        "b = request.read()\n",
        "\n",
        "text = b.decode('utf-8')\n",
        "\n",
        "tokens = nltk.word_tokenize(text)\n",
        "text = nltk.Text(tokens)"
      ],
      "metadata": {
        "id": "weyuP7t0M_S7"
      },
      "execution_count": null,
      "outputs": []
    },
    {
      "cell_type": "code",
      "execution_count": null,
      "metadata": {
        "id": "iYVPN-JoMrZM"
      },
      "outputs": [],
      "source": [
        "cfd = nltk.ConditionalFreqDist(((w1, w2), w3) for w1, w2, w3 in trigrams(text))\n",
        "\n",
        "def generate(first_word, second_word, cfd, word_count):\n",
        "    \"\"\"\n",
        "    Генерирует текст заданной длины word_count на основе первых двух слов first_word и second_word из cfd.\n",
        "    \"\"\"\n",
        "    words = [first_word, second_word]\n",
        "    current = (first_word, second_word)\n",
        "\n",
        "    for _ in range(word_count - 2):\n",
        "        next_word_probs = cfd[current]\n",
        "        if not next_word_probs:\n",
        "            break\n",
        "\n",
        "        next_word = random.choices(list(next_word_probs.keys()), weights=next_word_probs.values())[0]\n",
        "\n",
        "        words.append(next_word)\n",
        "\n",
        "        current = (current[1], next_word)\n",
        "\n",
        "    return ' '.join(words)\n",
        "\n",
        "generated_text = generate(\"The\", \"Project\", cfd, 25)"
      ]
    },
    {
      "cell_type": "code",
      "source": [
        "print(generated_text)"
      ],
      "metadata": {
        "id": "Z9vhKcHPPXND",
        "outputId": "8d93962e-34d0-442f-b344-a7272cacc2e2",
        "colab": {
          "base_uri": "https://localhost:8080/"
        }
      },
      "execution_count": null,
      "outputs": [
        {
          "output_type": "stream",
          "name": "stdout",
          "text": [
            "The Project Gutenberg volunteers and employees expend considerable effort to identify , do copyright research on , in the Wilderness for their disobedience , and\n"
          ]
        }
      ]
    },
    {
      "cell_type": "markdown",
      "source": [
        "### Task 2. Напишите функцию, которая подбирает рифмы к слову на основе cmudict"
      ],
      "metadata": {
        "id": "0drsLwNqNw4G"
      }
    },
    {
      "cell_type": "code",
      "source": [
        "nltk.download('cmudict')"
      ],
      "metadata": {
        "colab": {
          "base_uri": "https://localhost:8080/"
        },
        "id": "SW-w4PEzNwNV",
        "outputId": "eb2d7ea5-3bc9-417d-8bb2-9bc667b984e0"
      },
      "execution_count": null,
      "outputs": [
        {
          "output_type": "stream",
          "name": "stderr",
          "text": [
            "[nltk_data] Downloading package cmudict to /root/nltk_data...\n",
            "[nltk_data]   Package cmudict is already up-to-date!\n"
          ]
        },
        {
          "output_type": "execute_result",
          "data": {
            "text/plain": [
              "True"
            ]
          },
          "metadata": {},
          "execution_count": 12
        }
      ]
    },
    {
      "cell_type": "code",
      "source": [
        "from nltk.corpus import cmudict\n",
        "pronouncing_dict = cmudict.dict()"
      ],
      "metadata": {
        "id": "aX3wNKB3OIAP"
      },
      "execution_count": null,
      "outputs": []
    },
    {
      "cell_type": "code",
      "source": [
        "def show_rhymes(word: str):\n",
        "    \"\"\"\n",
        "    Использует внутренний метод find_stressed_ending для нахождения части звука под ударением,\n",
        "    чтобы далее найти рифму к заданному слову word.\n",
        "    \"\"\"\n",
        "    def find_stressed_ending(word_pronunciation: list[str]) -> list[str]:\n",
        "        \"\"\"\n",
        "        Находит звук под ударением и возращает часть последних звуков.\n",
        "        Нужно это для того, чтобы слова действительно рифмовались, иначе, будет похожее на propagation-attention не рифма.\n",
        "        - word_pronunciation: лист фонем слова.\n",
        "        :returns: возвращает лист последних звуков после звука под ударением.\n",
        "        \"\"\"\n",
        "\n",
        "        stressing_sign = '1'\n",
        "\n",
        "        for i in range(len(word_pronunciation) - 1, -1, -1):\n",
        "            if (stressing_sign in word_pronunciation[i]):\n",
        "                return word_pronunciation[i:]\n",
        "\n",
        "        return 0\n",
        "\n",
        "\n",
        "    word = word.lower()\n",
        "    rhymes = []\n",
        "    if word in pronouncing_dict:\n",
        "        word_pronunciation = pronouncing_dict[word][0]\n",
        "\n",
        "        last_part_stressed = find_stressed_ending(word_pronunciation)\n",
        "\n",
        "        for k, v in pronouncing_dict.items():\n",
        "            if word != k and find_stressed_ending(v[0]) == last_part_stressed:\n",
        "                rhymes.append(k)\n",
        "\n",
        "    return list(set(rhymes))\n",
        "\n",
        "rhymes = show_rhymes(\"bread\")"
      ],
      "metadata": {
        "id": "amg2hr_CMxAo"
      },
      "execution_count": null,
      "outputs": []
    },
    {
      "cell_type": "code",
      "source": [
        "print(rhymes)"
      ],
      "metadata": {
        "id": "RcdbpIevPV3L",
        "outputId": "5895d58d-d4a7-453d-e374-1119d1751d10",
        "colab": {
          "base_uri": "https://localhost:8080/"
        }
      },
      "execution_count": null,
      "outputs": [
        {
          "output_type": "stream",
          "name": "stdout",
          "text": [
            "['widespread', 'numed', 'overhead', 'bed', 'dredd', 'interbred', 'read', 'sled', 'bled', 'retread', 'wed', 'led', 'imbed', 'shed', 'fred', 'embed', 'shead', 'fled', 'head', 'thread', 'unread', 'swed', 'hilton-head', 'fread', 'said', 'sledd', 'thoroughbred', 'ged', 'ahead', 'tread', 'schwed', 'dred', 'ed', 'freda', 'instead', 'pled', 'jed', 'wedd', 'nedd', 'overfed', 'dread', 'dead', 'shedd', 'shred', 'red', 'sffed', 'szwed', 'zed', 'lead', 'reade', 'sped', 'spread', 'ted', 'infrared', 'wehde', 'purebred', 'fed', 'redd', 'bred', 'abed', 'sayed', 'unwed', 'med', 'stead', 'misled', 'ned', 'unsaid', 'biomed', 'unted', 'behead']\n"
          ]
        }
      ]
    },
    {
      "cell_type": "markdown",
      "source": [
        "# **HW 2**"
      ],
      "metadata": {
        "id": "jC-xGTreovua"
      }
    },
    {
      "cell_type": "code",
      "source": [],
      "metadata": {
        "id": "4thZzfnroyp9"
      },
      "execution_count": null,
      "outputs": []
    }
  ]
}