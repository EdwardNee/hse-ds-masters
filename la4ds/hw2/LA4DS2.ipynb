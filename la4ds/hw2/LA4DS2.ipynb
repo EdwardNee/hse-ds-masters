{
  "nbformat": 4,
  "nbformat_minor": 0,
  "metadata": {
    "colab": {
      "provenance": [],
      "collapsed_sections": [
        "ohXnchM0KKI4",
        "yLFxplPVXgQR",
        "gA6e-prlxyCZ",
        "p0O6TnOpdmnI",
        "zwrAXkbTANP0",
        "ezV9z5cDhzWU"
      ]
    },
    "kernelspec": {
      "name": "python3",
      "display_name": "Python 3"
    },
    "language_info": {
      "name": "python"
    }
  },
  "cells": [
    {
      "cell_type": "code",
      "execution_count": null,
      "metadata": {
        "id": "pussArzAJpXs"
      },
      "outputs": [],
      "source": [
        "import numpy as np"
      ]
    },
    {
      "cell_type": "markdown",
      "source": [
        "# **HW2 LA4DS**"
      ],
      "metadata": {
        "id": "TbofbwyI4S6A"
      }
    },
    {
      "cell_type": "markdown",
      "source": [
        "## Task 1"
      ],
      "metadata": {
        "id": "ohXnchM0KKI4"
      }
    },
    {
      "cell_type": "code",
      "source": [
        "A = np.matrix([[-56, -4, 30, 59], [-76, -32, -33, -74], [76, 56, -18, -22]])"
      ],
      "metadata": {
        "id": "m6EM3BydJ53C"
      },
      "execution_count": null,
      "outputs": []
    },
    {
      "cell_type": "code",
      "source": [
        "U, E, V = np.linalg.svd(A)"
      ],
      "metadata": {
        "id": "-37Fy2AnNcM7"
      },
      "execution_count": null,
      "outputs": []
    },
    {
      "cell_type": "code",
      "source": [
        "ee = np.matrix([[135, 0, 0, 0], [0, 108, 0, 0], [0, 0, 27, 0]])"
      ],
      "metadata": {
        "id": "_hv5BYeuRL6v"
      },
      "execution_count": null,
      "outputs": []
    },
    {
      "cell_type": "code",
      "source": [
        "V * 9"
      ],
      "metadata": {
        "colab": {
          "base_uri": "https://localhost:8080/"
        },
        "id": "ebNvn6wnRpdr",
        "outputId": "e85dedca-a094-4ebc-9faf-e43ed9b9a348"
      },
      "execution_count": null,
      "outputs": [
        {
          "output_type": "execute_result",
          "data": {
            "text/plain": [
              "matrix([[-8.00000000e+00, -4.00000000e+00, -4.49640325e-15,\n",
              "         -1.00000000e+00],\n",
              "        [ 1.00000000e+00,  5.62050406e-15, -4.00000000e+00,\n",
              "         -8.00000000e+00],\n",
              "        [ 4.00000000e+00, -8.00000000e+00,  1.00000000e+00,\n",
              "         -4.99600361e-16],\n",
              "        [ 1.23292455e-15, -1.00000000e+00, -8.00000000e+00,\n",
              "          4.00000000e+00]])"
            ]
          },
          "metadata": {},
          "execution_count": 42
        }
      ]
    },
    {
      "cell_type": "code",
      "source": [
        "vv = np.matrix([[-8, -4, 0, -1], [1, 0, -4, -8], [4, -8, 1, 0], [0, -1, -8, 4]]) * 1/9"
      ],
      "metadata": {
        "id": "ydWevOAlRoUC"
      },
      "execution_count": null,
      "outputs": []
    },
    {
      "cell_type": "code",
      "source": [
        "U @ ee @ vv"
      ],
      "metadata": {
        "colab": {
          "base_uri": "https://localhost:8080/"
        },
        "id": "OF5BIzSGRIv7",
        "outputId": "b6527817-4fc0-477e-b72e-c98adb999b3c"
      },
      "execution_count": null,
      "outputs": [
        {
          "output_type": "execute_result",
          "data": {
            "text/plain": [
              "matrix([[-56.,  -4.,  30.,  59.],\n",
              "        [-76., -32., -33., -74.],\n",
              "        [ 76.,  56., -18., -22.]])"
            ]
          },
          "metadata": {},
          "execution_count": 46
        }
      ]
    },
    {
      "cell_type": "code",
      "source": [
        "ee1 = np.matrix([[135, 0, 0, 0], [0, 108, 0, 0], [0, 0, 0, 0]])"
      ],
      "metadata": {
        "id": "R3w-PMPETs7_"
      },
      "execution_count": null,
      "outputs": []
    },
    {
      "cell_type": "code",
      "source": [
        "U @ ee1 @ vv"
      ],
      "metadata": {
        "colab": {
          "base_uri": "https://localhost:8080/"
        },
        "id": "j9qekJTuTw__",
        "outputId": "40b1a0a8-09b5-4064-ffaf-626963ae4c01"
      },
      "execution_count": null,
      "outputs": [
        {
          "output_type": "execute_result",
          "data": {
            "text/plain": [
              "matrix([[-48., -20.,  32.,  59.],\n",
              "        [-72., -40., -32., -74.],\n",
              "        [ 84.,  40., -16., -22.]])"
            ]
          },
          "metadata": {},
          "execution_count": 49
        }
      ]
    },
    {
      "cell_type": "code",
      "source": [
        "delta = U @ ee @ vv - U @ ee1 @ vv"
      ],
      "metadata": {
        "id": "969gmyypVILO"
      },
      "execution_count": null,
      "outputs": []
    },
    {
      "cell_type": "code",
      "source": [
        "delta"
      ],
      "metadata": {
        "colab": {
          "base_uri": "https://localhost:8080/"
        },
        "id": "FHFofGXjVUGW",
        "outputId": "8bff5706-cfee-443d-e1e2-740e763632fd"
      },
      "execution_count": null,
      "outputs": [
        {
          "output_type": "execute_result",
          "data": {
            "text/plain": [
              "matrix([[-8., 16., -2.,  0.],\n",
              "        [-4.,  8., -1.,  0.],\n",
              "        [-8., 16., -2.,  0.]])"
            ]
          },
          "metadata": {},
          "execution_count": 56
        }
      ]
    },
    {
      "cell_type": "code",
      "source": [
        "np.linalg.norm(delta)"
      ],
      "metadata": {
        "colab": {
          "base_uri": "https://localhost:8080/"
        },
        "id": "ICZzYGV1UWaJ",
        "outputId": "18fd2d24-7f07-4da3-91ab-774942b239a4"
      },
      "execution_count": null,
      "outputs": [
        {
          "output_type": "execute_result",
          "data": {
            "text/plain": [
              "27.0"
            ]
          },
          "metadata": {},
          "execution_count": 55
        }
      ]
    },
    {
      "cell_type": "markdown",
      "source": [
        "## Task 2"
      ],
      "metadata": {
        "id": "yLFxplPVXgQR"
      }
    },
    {
      "cell_type": "code",
      "source": [
        "A = np.matrix([[-3.05, -0.06], [-0.13, -8.05]])\n",
        "b = np.array([[-2.89], [-7.98]])"
      ],
      "metadata": {
        "id": "VnjjdRC2Xigd"
      },
      "execution_count": null,
      "outputs": []
    },
    {
      "cell_type": "code",
      "source": [
        "#Ax = b => x = A.inv b\n",
        "np.linalg.inv(np.matrix.round(A)) * np.matrix.round(b)"
      ],
      "metadata": {
        "colab": {
          "base_uri": "https://localhost:8080/"
        },
        "id": "yAG2mf_JXvCP",
        "outputId": "3cddc976-ffed-4b8a-b767-3e0af28ee29e"
      },
      "execution_count": null,
      "outputs": [
        {
          "output_type": "execute_result",
          "data": {
            "text/plain": [
              "matrix([[1.],\n",
              "        [1.]])"
            ]
          },
          "metadata": {},
          "execution_count": 83
        }
      ]
    },
    {
      "cell_type": "code",
      "source": [
        "# np.linalg.inv(np.matrix.round(A)) * 24"
      ],
      "metadata": {
        "colab": {
          "base_uri": "https://localhost:8080/"
        },
        "id": "mTfIy6DTenBT",
        "outputId": "e08a398b-1b60-4128-e959-de7b4d9ba1c2"
      },
      "execution_count": null,
      "outputs": [
        {
          "output_type": "execute_result",
          "data": {
            "text/plain": [
              "matrix([[-8.,  0.],\n",
              "        [ 0., -3.]])"
            ]
          },
          "metadata": {},
          "execution_count": 86
        }
      ]
    },
    {
      "cell_type": "code",
      "source": [
        "Ainv = np.linalg.inv(np.matrix.round(A))"
      ],
      "metadata": {
        "id": "7FclrrQsX4C2"
      },
      "execution_count": null,
      "outputs": []
    },
    {
      "cell_type": "code",
      "source": [
        "np.sum(np.absolute(np.matrix.round(A)), axis = 1), np.sum(np.absolute(Ainv), axis = 1) * 24"
      ],
      "metadata": {
        "colab": {
          "base_uri": "https://localhost:8080/"
        },
        "id": "5rKaMQomcYzB",
        "outputId": "d69cd019-33c5-4b20-d357-a56d442bec9e"
      },
      "execution_count": null,
      "outputs": [
        {
          "output_type": "execute_result",
          "data": {
            "text/plain": [
              "(matrix([[3.],\n",
              "         [8.]]),\n",
              " matrix([[8.],\n",
              "         [3.]]))"
            ]
          },
          "metadata": {},
          "execution_count": 90
        }
      ]
    },
    {
      "cell_type": "code",
      "source": [
        "_, s, _ = np.linalg.svd(np.transpose(np.matrix.round(A)) @ np.matrix.round(A))\n",
        "s"
      ],
      "metadata": {
        "colab": {
          "base_uri": "https://localhost:8080/"
        },
        "id": "tqVpxP5-jY15",
        "outputId": "32bccc58-29fc-42aa-f103-56a4b004561f"
      },
      "execution_count": null,
      "outputs": [
        {
          "output_type": "execute_result",
          "data": {
            "text/plain": [
              "array([64.,  9.])"
            ]
          },
          "metadata": {},
          "execution_count": 97
        }
      ]
    },
    {
      "cell_type": "code",
      "source": [
        "_, s, _ = np.linalg.svd(np.transpose(A - np.round(A)) @ (A - np.round(A)))\n",
        "np.max(np.sqrt(s))"
      ],
      "metadata": {
        "colab": {
          "base_uri": "https://localhost:8080/"
        },
        "id": "QB1Ea3k5sqTN",
        "outputId": "d60811c5-bfaf-4c2b-b08c-2094838d4d7e"
      },
      "execution_count": null,
      "outputs": [
        {
          "output_type": "execute_result",
          "data": {
            "text/plain": [
              "0.15603277807866872"
            ]
          },
          "metadata": {},
          "execution_count": 133
        }
      ]
    },
    {
      "cell_type": "code",
      "source": [
        "_, s, _ = np.linalg.svd(np.transpose(A) @ A)\n",
        "np.max(np.sqrt(s))"
      ],
      "metadata": {
        "colab": {
          "base_uri": "https://localhost:8080/"
        },
        "id": "_zfIyG-KtpNH",
        "outputId": "28b31a88-c6f0-476a-c4a7-ec335fc9b3bc"
      },
      "execution_count": null,
      "outputs": [
        {
          "output_type": "execute_result",
          "data": {
            "text/plain": [
              "8.051914708128173"
            ]
          },
          "metadata": {},
          "execution_count": 134
        }
      ]
    },
    {
      "cell_type": "code",
      "source": [
        "np.linalg.norm(b - np.round(b))"
      ],
      "metadata": {
        "colab": {
          "base_uri": "https://localhost:8080/"
        },
        "id": "rBCTluNiuuHd",
        "outputId": "a3f43c5a-d61e-4b27-c297-48f71359e6b0"
      },
      "execution_count": null,
      "outputs": [
        {
          "output_type": "execute_result",
          "data": {
            "text/plain": [
              "0.11180339887498929"
            ]
          },
          "metadata": {},
          "execution_count": 154
        }
      ]
    },
    {
      "cell_type": "markdown",
      "source": [
        "## Task 3"
      ],
      "metadata": {
        "id": "gA6e-prlxyCZ"
      }
    },
    {
      "cell_type": "code",
      "source": [
        "A, b = np.matrix([[4, -2], [-4, -1]]), np.matrix([[3], [4]])\n",
        "np.linalg.inv(A) * b * 12"
      ],
      "metadata": {
        "id": "MXxDL0JHx24t",
        "colab": {
          "base_uri": "https://localhost:8080/"
        },
        "outputId": "7bb39700-5e1e-4c9a-d62d-560e1ea28653"
      },
      "execution_count": null,
      "outputs": [
        {
          "output_type": "execute_result",
          "data": {
            "text/plain": [
              "matrix([[ -5.],\n",
              "        [-28.]])"
            ]
          },
          "metadata": {},
          "execution_count": 166
        }
      ]
    },
    {
      "cell_type": "code",
      "source": [
        "np.linalg.inv(A) * 12"
      ],
      "metadata": {
        "colab": {
          "base_uri": "https://localhost:8080/"
        },
        "id": "Zcmk6jLURSzK",
        "outputId": "f4d65d44-13b1-42ad-9acb-0c7758354084"
      },
      "execution_count": null,
      "outputs": [
        {
          "output_type": "execute_result",
          "data": {
            "text/plain": [
              "matrix([[ 1., -2.],\n",
              "        [-4., -4.]])"
            ]
          },
          "metadata": {},
          "execution_count": 170
        }
      ]
    },
    {
      "cell_type": "code",
      "source": [
        "_, s, _ = np.linalg.svd(np.transpose(A) @ A)\n",
        "np.sqrt(s)"
      ],
      "metadata": {
        "colab": {
          "base_uri": "https://localhost:8080/"
        },
        "id": "hriqUb0ST7VO",
        "outputId": "8a136cad-0c71-4330-abc5-d33e9910f5da"
      },
      "execution_count": null,
      "outputs": [
        {
          "output_type": "execute_result",
          "data": {
            "text/plain": [
              "array([5.70790048, 2.1023492 ])"
            ]
          },
          "metadata": {},
          "execution_count": 171
        }
      ]
    },
    {
      "cell_type": "code",
      "source": [
        "deltaA = np.matrix([[0.05, 0.1], [0, 0.05]])"
      ],
      "metadata": {
        "id": "YlyAFIVodmRE"
      },
      "execution_count": null,
      "outputs": []
    },
    {
      "cell_type": "code",
      "source": [
        "_, s, _ = np.linalg.svd(np.transpose(deltaA) @ deltaA)\n",
        "np.sqrt(s)"
      ],
      "metadata": {
        "colab": {
          "base_uri": "https://localhost:8080/"
        },
        "id": "OEQHGlggdolA",
        "outputId": "7aee5ad0-4b6f-4b49-8bc8-450cf86c3a88"
      },
      "execution_count": null,
      "outputs": [
        {
          "output_type": "execute_result",
          "data": {
            "text/plain": [
              "array([0.12071068, 0.02071068])"
            ]
          },
          "metadata": {},
          "execution_count": 183
        }
      ]
    },
    {
      "cell_type": "markdown",
      "source": [
        "## Task 4"
      ],
      "metadata": {
        "id": "p0O6TnOpdmnI"
      }
    },
    {
      "cell_type": "code",
      "source": [
        "A = np.matrix([[5, -1], [-2, -3]])"
      ],
      "metadata": {
        "id": "94Wy11uxhyKO"
      },
      "execution_count": null,
      "outputs": []
    },
    {
      "cell_type": "code",
      "source": [
        "np.linalg.inv(A) * 17"
      ],
      "metadata": {
        "colab": {
          "base_uri": "https://localhost:8080/"
        },
        "id": "em9-eXlshy7i",
        "outputId": "79411d82-db6c-47b8-826d-c8a195750442"
      },
      "execution_count": null,
      "outputs": [
        {
          "output_type": "execute_result",
          "data": {
            "text/plain": [
              "matrix([[ 3., -1.],\n",
              "        [-2., -5.]])"
            ]
          },
          "metadata": {},
          "execution_count": 196
        }
      ]
    },
    {
      "cell_type": "code",
      "source": [
        "42 / 17 * (0.02 / 6) / (1 - 42 / 17 * (0.02 / 6))"
      ],
      "metadata": {
        "colab": {
          "base_uri": "https://localhost:8080/"
        },
        "id": "wZiFiSiChy-q",
        "outputId": "4abd3dde-c071-43ee-95d7-103beeb94d33"
      },
      "execution_count": null,
      "outputs": [
        {
          "output_type": "execute_result",
          "data": {
            "text/plain": [
              "0.008303677342823251"
            ]
          },
          "metadata": {},
          "execution_count": 199
        }
      ]
    },
    {
      "cell_type": "markdown",
      "source": [
        "## Task 5"
      ],
      "metadata": {
        "id": "zwrAXkbTANP0"
      }
    },
    {
      "cell_type": "code",
      "source": [
        "A, b = np.matrix([[25, 6, 4], [2, 23, 2], [6, 1, 25]]), np.array([5, 9, 1])\n",
        "x0 = np.array([0, 0, 0])"
      ],
      "metadata": {
        "id": "stmASfSW28sL"
      },
      "execution_count": 89,
      "outputs": []
    },
    {
      "cell_type": "code",
      "source": [
        "L, D, R = np.tril(A, -1), np.diag(np.diag(A)), np.triu(A, 1)"
      ],
      "metadata": {
        "id": "P8qnZGuK2-SF"
      },
      "execution_count": 90,
      "outputs": []
    },
    {
      "cell_type": "code",
      "source": [
        "inv_D = np.linalg.inv(D)\n",
        "P = inv_D @ (-(L + R))\n",
        "c = inv_D @ b"
      ],
      "metadata": {
        "id": "8DNvnxtY3ZoA"
      },
      "execution_count": 91,
      "outputs": []
    },
    {
      "cell_type": "code",
      "source": [
        "i = 1\n",
        "while True:\n",
        "    x_next = P @ x0 + c\n",
        "    error = np.linalg.norm(x_next - x0)\n",
        "    x0 = x_next\n",
        "\n",
        "    # print(f\"{i}) error={error}\")\n",
        "\n",
        "    if error < 0.01:\n",
        "        print(f\"\\nEnd on {i} iteration\")\n",
        "        break\n",
        "\n",
        "    i += 1\n",
        "\n",
        "x0"
      ],
      "metadata": {
        "colab": {
          "base_uri": "https://localhost:8080/"
        },
        "id": "KI8vYi2I25lP",
        "outputId": "ce58b602-f6b0-411d-8bbc-970125eb258f"
      },
      "execution_count": 92,
      "outputs": [
        {
          "output_type": "stream",
          "name": "stdout",
          "text": [
            "1) error=0.44126986372014937\n",
            "2) error=0.12062273702785366\n",
            "3) error=0.03247489001891268\n",
            "4) error=0.009209307392144957\n",
            "\n",
            "End on 4 iteration\n"
          ]
        },
        {
          "output_type": "execute_result",
          "data": {
            "text/plain": [
              "array([ 0.10747253,  0.38120541, -0.00295891])"
            ]
          },
          "metadata": {},
          "execution_count": 92
        }
      ]
    },
    {
      "cell_type": "markdown",
      "source": [
        "# Task 6"
      ],
      "metadata": {
        "id": "ezV9z5cDhzWU"
      }
    },
    {
      "cell_type": "code",
      "source": [
        "A = np.matrix([[1, 0, 1, 1, 1], [0, 0, 1, 0, 1], [0, 1, 0, 1, 1], [0, 1, 0, 0, 0], [0, 0, 1, 1, 1]])"
      ],
      "metadata": {
        "id": "MJ35jrzVrVI2"
      },
      "execution_count": null,
      "outputs": []
    },
    {
      "cell_type": "code",
      "source": [
        "norm_A = A / A.sum(axis=1)\n",
        "P = np.transpose(norm_A)"
      ],
      "metadata": {
        "id": "b5zd17kBrk81"
      },
      "execution_count": null,
      "outputs": []
    },
    {
      "cell_type": "code",
      "source": [
        "beta = 0.15\n",
        "Q = np.ones((5, 5)) / 5\n",
        "PR = (1 - beta) * P + beta * Q\n",
        "PR"
      ],
      "metadata": {
        "colab": {
          "base_uri": "https://localhost:8080/"
        },
        "id": "thJOlQYDHPSr",
        "outputId": "0d68c9ea-9ddd-46bd-f9e9-dc91252263d0"
      },
      "execution_count": null,
      "outputs": [
        {
          "output_type": "execute_result",
          "data": {
            "text/plain": [
              "matrix([[0.2425    , 0.03      , 0.03      , 0.03      , 0.03      ],\n",
              "        [0.03      , 0.03      , 0.31333333, 0.88      , 0.03      ],\n",
              "        [0.2425    , 0.455     , 0.03      , 0.03      , 0.31333333],\n",
              "        [0.2425    , 0.03      , 0.31333333, 0.03      , 0.31333333],\n",
              "        [0.2425    , 0.455     , 0.31333333, 0.03      , 0.31333333]])"
            ]
          },
          "metadata": {},
          "execution_count": 391
        }
      ]
    },
    {
      "cell_type": "code",
      "source": [
        "eigvals, eigvecs = np.linalg.eig(PR)\n",
        "index = np.argmin(np.abs(eigvals - 1))\n",
        "vec = eigvecs[:, index].reshape(1, -1)\n",
        "vec, vec.argmax()"
      ],
      "metadata": {
        "colab": {
          "base_uri": "https://localhost:8080/"
        },
        "id": "MO9oZ2GFPs-r",
        "outputId": "6a7dafe1-b724-4cb1-cc1c-ba27a5b0bed9"
      },
      "execution_count": null,
      "outputs": [
        {
          "output_type": "execute_result",
          "data": {
            "text/plain": [
              "(matrix([[-0.07794921+0.j, -0.51788462+0.j, -0.46834598+0.j,\n",
              "          -0.38094304+0.j, -0.601044  +0.j]]),\n",
              " 0)"
            ]
          },
          "metadata": {},
          "execution_count": 388
        }
      ]
    }
  ]
}