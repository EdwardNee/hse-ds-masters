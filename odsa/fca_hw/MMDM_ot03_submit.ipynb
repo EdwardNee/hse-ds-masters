{
  "cells": [
    {
      "cell_type": "code",
      "execution_count": 1,
      "id": "eb634335-9449-4a30-91dc-a2a66643706b",
      "metadata": {
        "id": "eb634335-9449-4a30-91dc-a2a66643706b"
      },
      "outputs": [],
      "source": [
        "import random\n",
        "import numpy as np"
      ]
    },
    {
      "cell_type": "markdown",
      "id": "7d6eeead-9b59-4308-99b3-3dba6f083ce0",
      "metadata": {
        "id": "7d6eeead-9b59-4308-99b3-3dba6f083ce0"
      },
      "source": [
        "## 1. Task"
      ]
    },
    {
      "cell_type": "code",
      "execution_count": 2,
      "id": "bf16822c-66dd-4efc-b963-fd60ed418be5",
      "metadata": {
        "id": "bf16822c-66dd-4efc-b963-fd60ed418be5"
      },
      "outputs": [],
      "source": [
        "SEED = 42\n",
        "POP_CNT = 1000\n",
        "MUTATION_RATE = 0.1\n",
        "EPOCHS = 10000\n",
        "\n",
        "random.seed(SEED)"
      ]
    },
    {
      "cell_type": "code",
      "execution_count": 3,
      "id": "55386799-d89b-48ce-af00-2d9b4483cfd6",
      "metadata": {
        "id": "55386799-d89b-48ce-af00-2d9b4483cfd6"
      },
      "outputs": [],
      "source": [
        "def generate_pop(size: int):\n",
        "    return np.random.uniform(-10, 10, [size, 2])\n",
        "\n",
        "\n",
        "def parent_selection(population):\n",
        "    return population[np.random.choice(population.shape[0], 2, replace=False)]\n",
        "\n",
        "\n",
        "def crossover(parent1, parent2, crossover_rate=0.6):\n",
        "    if random.random() < crossover_rate:\n",
        "        return np.array([parent1[0], parent2[1]])\n",
        "    return parent1\n",
        "\n",
        "\n",
        "def mutation(individual, mutation_rate=0.1, epsilon=0.5):\n",
        "    mutated_individual = individual[:]\n",
        "\n",
        "    for i in range(len(mutated_individual)):\n",
        "        if random.random() < mutation_rate:\n",
        "            mutated_individual[i] += random.uniform(-epsilon, epsilon)\n",
        "\n",
        "    return mutated_individual"
      ]
    },
    {
      "cell_type": "markdown",
      "id": "4572e2db-4dd7-473d-b323-ad12ec8f8a51",
      "metadata": {
        "id": "4572e2db-4dd7-473d-b323-ad12ec8f8a51"
      },
      "source": [
        "## a)"
      ]
    },
    {
      "cell_type": "code",
      "execution_count": 11,
      "id": "5293a28a-d522-43d0-89ed-81b562d380a5",
      "metadata": {
        "id": "5293a28a-d522-43d0-89ed-81b562d380a5"
      },
      "outputs": [],
      "source": [
        "def ackley_function(x, y):\n",
        "    return (\n",
        "        3 * (1 - x) ** 2 * np.exp(-(x**2) - (y + 1) ** 2)\n",
        "        - 10 * (x / 5 - x**3 - y**5) * np.exp(-(x**2) - y**2)\n",
        "        - 1.0 / 3 * np.exp(-((x + 1) ** 2) - y**2)\n",
        "    )\n",
        "\n",
        "\n",
        "def apply_func(population):\n",
        "    result = np.zeros(POP_CNT)\n",
        "    for i in range(population.shape[0]):\n",
        "        el = population[i]\n",
        "        result[i] = ackley_function(el[0], el[1])\n",
        "\n",
        "    return result"
      ]
    },
    {
      "cell_type": "code",
      "execution_count": 12,
      "id": "1bd59295-2f69-472b-94ea-87520ba1da48",
      "metadata": {
        "id": "1bd59295-2f69-472b-94ea-87520ba1da48"
      },
      "outputs": [],
      "source": [
        "def process_algo():\n",
        "    population = generate_pop(POP_CNT)\n",
        "    applied_func = apply_func(population)\n",
        "\n",
        "    max_value = np.max(applied_func)\n",
        "    max_child = None\n",
        "\n",
        "    for _ in range(EPOCHS):\n",
        "        parents = parent_selection(population)\n",
        "\n",
        "        crossover_individ = crossover(parents[0], parents[1], crossover_rate=0.5)\n",
        "        mutated_individual = mutation(crossover_individ, mutation_rate=0.4, epsilon=0.1)\n",
        "        f_mutated = ackley_function(mutated_individual[0], mutated_individual[1])\n",
        "\n",
        "        if f_mutated > max_value:\n",
        "            max_value = f_mutated\n",
        "            max_child = mutated_individual.copy()\n",
        "\n",
        "        worst_idx = np.argmin(applied_func)\n",
        "\n",
        "        if applied_func[worst_idx] < f_mutated:\n",
        "            population[worst_idx] = mutated_individual\n",
        "            applied_func[worst_idx] = f_mutated\n",
        "\n",
        "    return max_value, max_child"
      ]
    },
    {
      "cell_type": "code",
      "execution_count": 13,
      "id": "5976c258-8658-4679-b2ab-1051badbff8a",
      "metadata": {
        "colab": {
          "base_uri": "https://localhost:8080/"
        },
        "id": "5976c258-8658-4679-b2ab-1051badbff8a",
        "outputId": "5985a63e-4b7b-4bcc-f9b9-252c5c7d07c3"
      },
      "outputs": [
        {
          "name": "stdout",
          "output_type": "stream",
          "text": [
            "[-0.01629217  1.58357993] with 8.105730181650872\n"
          ]
        }
      ],
      "source": [
        "max_value, max_child = process_algo()\n",
        "print(f\"{max_child} with {max_value}\")"
      ]
    },
    {
      "cell_type": "markdown",
      "id": "4fc3a412-2224-4aba-849e-f420bb930202",
      "metadata": {
        "id": "4fc3a412-2224-4aba-849e-f420bb930202"
      },
      "source": [
        "### b)"
      ]
    },
    {
      "cell_type": "code",
      "execution_count": 14,
      "id": "1b34acd6-87d9-45ed-bc26-ad1813d0e7ba",
      "metadata": {
        "id": "1b34acd6-87d9-45ed-bc26-ad1813d0e7ba"
      },
      "outputs": [],
      "source": [
        "def b_function(x, y):\n",
        "    return (\n",
        "        -0.0001\n",
        "        * (\n",
        "            np.abs(\n",
        "                np.sin(x)\n",
        "                * np.sin(y)\n",
        "                * np.exp(np.abs(100 - np.sqrt(x**2 + y**2) / np.pi))\n",
        "            )\n",
        "            + 1\n",
        "        )\n",
        "        ** 0.1\n",
        "    )\n",
        "\n",
        "\n",
        "def apply_func(population):\n",
        "    result = np.zeros(POP_CNT)\n",
        "    for i in range(population.shape[0]):\n",
        "        el = population[i]\n",
        "        result[i] = b_function(el[0], el[1])\n",
        "\n",
        "    return result"
      ]
    },
    {
      "cell_type": "code",
      "execution_count": 17,
      "id": "4sM8FiBst8-P",
      "metadata": {
        "id": "4sM8FiBst8-P"
      },
      "outputs": [],
      "source": [
        "def process_algo_b():\n",
        "    population = generate_pop(POP_CNT)\n",
        "    applied_func = apply_func(population)\n",
        "\n",
        "    parents = parent_selection(population)\n",
        "    min_value = np.min(applied_func)\n",
        "    min_child = None\n",
        "\n",
        "    for _ in range(EPOCHS):\n",
        "        parents = parent_selection(population)\n",
        "\n",
        "        crossover_individ = crossover(parents[0], parents[1], crossover_rate=0.5)\n",
        "        mutated_individual = mutation(crossover_individ, mutation_rate=0.4, epsilon=0.1)\n",
        "        f_mutated = b_function(mutated_individual[0], mutated_individual[1])\n",
        "\n",
        "        if f_mutated < min_value:\n",
        "            min_value = f_mutated\n",
        "            min_child = mutated_individual.copy()\n",
        "\n",
        "        worst_idx = np.argmax(applied_func)\n",
        "\n",
        "        if applied_func[worst_idx] > f_mutated:\n",
        "            population[worst_idx] = mutated_individual\n",
        "            applied_func[worst_idx] = f_mutated\n",
        "\n",
        "    return min_value, min_child"
      ]
    },
    {
      "cell_type": "code",
      "execution_count": 18,
      "id": "GZLAgwx5uITi",
      "metadata": {
        "colab": {
          "base_uri": "https://localhost:8080/"
        },
        "id": "GZLAgwx5uITi",
        "outputId": "9b5f6f5e-bba2-46cc-b717-96c0ba03a636"
      },
      "outputs": [
        {
          "name": "stdout",
          "output_type": "stream",
          "text": [
            "[-1.35009955 -1.3500876 ] with -2.062611768555242\n"
          ]
        }
      ],
      "source": [
        "min_value, min_chel = process_algo_b()\n",
        "\n",
        "print(f\"{min_chel} with {min_value}\")"
      ]
    },
    {
      "cell_type": "markdown",
      "id": "75db0cf6",
      "metadata": {
        "id": "75db0cf6"
      },
      "source": [
        "## 2"
      ]
    },
    {
      "cell_type": "code",
      "execution_count": 19,
      "id": "4a1b3682",
      "metadata": {
        "id": "4a1b3682"
      },
      "outputs": [],
      "source": [
        "n = 3\n",
        "POP_CNT = 500\n",
        "EPOCHS = 5000\n",
        "times = 2"
      ]
    },
    {
      "cell_type": "code",
      "execution_count": 31,
      "id": "9aa0863f",
      "metadata": {
        "id": "9aa0863f"
      },
      "outputs": [],
      "source": [
        "class Element:\n",
        "    def __init__(self, x):\n",
        "        self.x = x\n",
        "        self.func = self.calculate_func()\n",
        "        self.list_dominated = []\n",
        "        self.num_dominating = 0\n",
        "        self.distance = 0\n",
        "        self.rank = 0\n",
        "\n",
        "\n",
        "    def calculate_func(self):\n",
        "        f_1, f_2 = -1, -1\n",
        "\n",
        "        for i in range(n):\n",
        "            f_1 *= np.exp(-1 * ((self.x[i] - 1 / np.sqrt(n)) ** 2))\n",
        "            f_2 *= np.exp(-1 * ((self.x[i] + 1 / np.sqrt(n)) ** 2))\n",
        "\n",
        "        f_1 += 1\n",
        "        f_2 += 1\n",
        "\n",
        "        return f_1, f_2\n",
        "\n"
      ]
    },
    {
      "cell_type": "code",
      "execution_count": 32,
      "id": "1bda159c",
      "metadata": {
        "id": "1bda159c"
      },
      "outputs": [],
      "source": [
        "def generate_population(size: int):\n",
        "    res = []\n",
        "    for i in range(size):\n",
        "        nums = [np.random.uniform(-4, 4) for _ in range(n)]\n",
        "        res.append(Element(nums))\n",
        "    return res"
      ]
    },
    {
      "cell_type": "code",
      "execution_count": 33,
      "id": "4fc59e95",
      "metadata": {
        "id": "4fc59e95"
      },
      "outputs": [],
      "source": [
        "def CheckDominates(individual_1: Element, individual_2: Element) -> bool:\n",
        "    f1_1, f2_1 = individual_1.func\n",
        "    f1_2, f2_2 = individual_2.func\n",
        "    return (f1_1 <= f1_2 and f2_1 <= f2_2) and (f1_1 < f1_2 or f2_1 < f2_2)"
      ]
    },
    {
      "cell_type": "code",
      "execution_count": 34,
      "id": "1ba71321",
      "metadata": {
        "id": "1ba71321"
      },
      "outputs": [],
      "source": [
        "def non_dominated_sort(arr_element: list[Element]):\n",
        "    S = [[] for _ in range(len(arr_element))]\n",
        "    front = [[]]\n",
        "    n = [0] * len(arr_element)\n",
        "    rank = [0] * len(arr_element)\n",
        "\n",
        "    for p in range(len(arr_element)):\n",
        "        S[p] = []\n",
        "        n[p] = 0\n",
        "        for q in range(len(arr_element)):\n",
        "            if CheckDominates(arr_element[p], arr_element[q]):\n",
        "                if q not in S[p]:\n",
        "                    S[p].append(q)\n",
        "            elif CheckDominates(arr_element[q], arr_element[p]):\n",
        "                n[p] += 1\n",
        "        if n[p] == 0:\n",
        "            rank[p] = 0\n",
        "            if p not in front[0]:\n",
        "                front[0].append(p)\n",
        "\n",
        "    i = 0\n",
        "    while front[i]:\n",
        "        Q = []\n",
        "        for p in front[i]:\n",
        "            for q in S[p]:\n",
        "                n[q] -= 1\n",
        "                if n[q] == 0:\n",
        "                    rank[q] = i + 1\n",
        "                    if q not in Q:\n",
        "                        Q.append(q)\n",
        "        i += 1\n",
        "        front.append(Q)\n",
        "\n",
        "    del front[len(front) - 1]\n",
        "    fronts = {}\n",
        "    for i in range(len(front)):\n",
        "        fronts[i] = [arr_element[p] for p in front[i]]\n",
        "        for el in fronts[i]:\n",
        "            el.rank = i\n",
        "    return fronts"
      ]
    },
    {
      "cell_type": "code",
      "execution_count": 35,
      "id": "200d7c9c",
      "metadata": {
        "id": "200d7c9c"
      },
      "outputs": [],
      "source": [
        "def crowding_distance(arr_elements: list[Element]):\n",
        "    front_size = len(arr_elements)\n",
        "\n",
        "    for i in range(2):\n",
        "        arr_elements.sort(key=lambda el: el.func[i])\n",
        "        arr_elements[0].distance = np.inf\n",
        "        arr_elements[front_size - 1].distance = np.inf\n",
        "        f_max = arr_elements[front_size - 1].func[i]\n",
        "        f_min = arr_elements[0].func[i]\n",
        "        for j in range(1, front_size - 1):\n",
        "            arr_elements[j].distance += (\n",
        "                arr_elements[j + 1].func[i] - arr_elements[j - 1].func[i]\n",
        "            ) / (f_max - f_min)\n",
        "\n",
        "    return sorted(arr_elements, key=lambda el: el.distance, reverse=True)"
      ]
    },
    {
      "cell_type": "code",
      "execution_count": 36,
      "id": "490aab45",
      "metadata": {
        "id": "490aab45"
      },
      "outputs": [],
      "source": [
        "def tournament(population: list[Element], taken_percent: float = 0.1):\n",
        "    participants_cnt = int(len(population) * taken_percent)\n",
        "    participants = np.random.choice(population, size=participants_cnt, replace=False)\n",
        "\n",
        "    sorted_by_rank = sorted(participants, key=lambda el: (el.rank, -el.distance))\n",
        "    return sorted_by_rank[0]\n",
        "\n",
        "\n",
        "def Select_parents(population: list[Element], taken_percent: float = 0.3):\n",
        "    parent_1, parent_2 = None, None\n",
        "    iter = 0\n",
        "    while (parent_1 == None or parent_1.x == parent_2.x) and (iter < 10):\n",
        "        parent_1, parent_2 = tournament(population, taken_percent), tournament(\n",
        "            population, taken_percent\n",
        "        )\n",
        "        iter += 1\n",
        "\n",
        "    return parent_1, parent_2\n",
        "\n",
        "\n",
        "def CrossOver(parents: list[Element], crossover_rate=0.6):\n",
        "    new_x = parents[0].x\n",
        "    if random.random() < crossover_rate:\n",
        "        if random.randint(1, 2) == 1:\n",
        "            new_x = [parents[0].x[0], parents[1].x[1], parents[1].x[2]]\n",
        "        else:\n",
        "            new_x = [parents[0].x[0], parents[0].x[1], parents[1].x[2]]\n",
        "        np.random.shuffle(new_x)\n",
        "    return Element(new_x)\n",
        "\n",
        "\n",
        "def Mutation(cross_res: Element, mutation_rate=0.1, eps: float = 0.1):\n",
        "    for i in range(len(cross_res.x)):\n",
        "        if random.random() < mutation_rate:\n",
        "            cross_res.x[i] += random.uniform(-eps, eps)\n",
        "\n",
        "    return cross_res\n",
        "\n",
        "\n",
        "def NewPopulation(population: list[Element]) -> list[Element]:\n",
        "    new_population = population[:]\n",
        "    for i in range(EPOCHS):\n",
        "        parents = Select_parents(new_population)\n",
        "        cross_res = CrossOver(parents)\n",
        "        mut_res = Mutation(cross_res)\n",
        "\n",
        "        new_population.sort(key=lambda el: (el.rank, -el.distance))\n",
        "        worst = new_population[-1]\n",
        "        if mut_res.rank < worst.rank or (\n",
        "            mut_res.rank == worst.rank and mut_res.distance < worst.distance\n",
        "        ):\n",
        "            new_population[-1] = mut_res\n",
        "    return new_population\n",
        "\n",
        "\n",
        "def Inital(p_0: list[Element]):\n",
        "    non_dominated_sort(p_0)\n",
        "    return NewPopulation(p_0)"
      ]
    },
    {
      "cell_type": "code",
      "execution_count": 37,
      "id": "b2075272",
      "metadata": {
        "id": "b2075272"
      },
      "outputs": [],
      "source": [
        "def NSGA_2():\n",
        "    p_t = generate_population(POP_CNT)\n",
        "    q_t = Inital(p_t)\n",
        "\n",
        "    for i in range(times):\n",
        "        r_t = p_t + q_t\n",
        "        for obj in r_t:\n",
        "            obj.distance = 0\n",
        "            obj.num_dominating = 0\n",
        "            obj.rank = 0\n",
        "            obj.list_dominated = []\n",
        "\n",
        "        fronts = non_dominated_sort(r_t)\n",
        "        p_t_1 = []\n",
        "        j = 0\n",
        "\n",
        "        while len(p_t_1) + len(fronts[j]) <= POP_CNT:\n",
        "            crowding_distance(fronts[j])\n",
        "            p_t_1 += fronts[j]\n",
        "            j += 1\n",
        "\n",
        "        sorted_fi = crowding_distance(fronts[j])\n",
        "        p_t_1 += sorted_fi[: POP_CNT - len(p_t_1)]\n",
        "        q_t_1 = NewPopulation(p_t_1)\n",
        "\n",
        "        p_t = p_t_1\n",
        "        q_t = q_t_1\n",
        "\n",
        "    sorted_population = non_dominated_sort(p_t)\n",
        "    return sorted_population[0]"
      ]
    },
    {
      "cell_type": "code",
      "execution_count": null,
      "id": "f39388ea",
      "metadata": {
        "id": "f39388ea",
        "outputId": "81e13b00-afd9-4d72-a4be-6495fb3a10d3"
      },
      "outputs": [],
      "source": [
        "result = NSGA_2()"
      ]
    },
    {
      "cell_type": "code",
      "execution_count": 39,
      "id": "203c4865",
      "metadata": {
        "id": "203c4865",
        "outputId": "9603f470-bba7-4e7b-fb19-7addf729cb1e"
      },
      "outputs": [
        {
          "data": {
            "text/plain": [
              "[-0.13809177264544342, -0.030450345013311633, 0.23454901778950152]"
            ]
          },
          "execution_count": 39,
          "metadata": {},
          "output_type": "execute_result"
        }
      ],
      "source": [
        "result[0].x"
      ]
    },
    {
      "cell_type": "code",
      "execution_count": 42,
      "id": "2faa9b92",
      "metadata": {
        "id": "2faa9b92",
        "outputId": "d2b1c67f-fe96-4aef-88c7-7d67118882bf"
      },
      "outputs": [
        {
          "data": {
            "text/plain": [
              "<matplotlib.collections.PathCollection at 0x1241a7b30>"
            ]
          },
          "execution_count": 42,
          "metadata": {},
          "output_type": "execute_result"
        },
        {
          "data": {
            "image/png": "[encoded data removed]",
            "text/plain": [
              "<Figure size 640x480 with 1 Axes>"
            ]
          },
          "metadata": {},
          "output_type": "display_data"
        }
      ],
      "source": [
        "import matplotlib.pyplot as plt\n",
        "\n",
        "x = []\n",
        "y = []\n",
        "for el in result:\n",
        "    x.append(el.func[0])\n",
        "    y.append(el.func[1])\n",
        "plt.xlabel(\"function - 1\")\n",
        "plt.ylabel(\"function - 2\")\n",
        "plt.scatter(x, y)"
      ]
    },
    {
      "cell_type": "markdown",
      "id": "262a2419-a8fd-4e06-bed3-d7766ac7d606",
      "metadata": {
        "id": "262a2419-a8fd-4e06-bed3-d7766ac7d606"
      },
      "source": [
        "## 3"
      ]
    },
    {
      "cell_type": "code",
      "execution_count": null,
      "id": "054194ea-ccd3-4b86-a7ac-9a669cd0f704",
      "metadata": {
        "id": "054194ea-ccd3-4b86-a7ac-9a669cd0f704"
      },
      "outputs": [],
      "source": [
        "distance_matrix = [\n",
        "      [0, 5.48, 7.76, 6.96, 5.82, 2.74, 5.02, 1.94, 3.08, 1.94, 5.36, 5.02, 3.88, 3.54, 4.68, 7.76, 6.62],\n",
        "      [5.48, 0, 6.84, 3.08, 1.94, 5.02, 7.30, 3.54, 6.96, 7.42, 10.84, 5.94, 4.80, 6.74, 10.16, 8.68, 12.10],\n",
        "      [7.76, 6.84, 0, 9.92, 8.78, 5.02, 2.74, 8.10, 4.68, 7.42, 4.00, 12.78, 11.64, 11.30, 7.88, 15.52, 7.54],\n",
        "      [6.96, 3.08, 9.92, 0, 1.14, 6.50, 8.78, 5.02, 8.44, 8.90, 12.32, 5.14, 6.28, 8.22, 11.64, 5.60, 13.58],\n",
        "      [5.82, 1.94, 8.78, 1.14, 0, 5.36, 7.64, 3.88, 7.30, 7.76, 11.18, 4.00, 5.14, 7.08, 10.50, 6.74, 12.44],\n",
        "      [2.74, 5.02, 5.02, 6.50, 5.36, 0, 2.28, 3.08, 1.94, 2.40, 5.82, 7.76, 6.62, 6.28, 5.14, 10.50, 7.08],\n",
        "      [5.02, 7.30, 2.74, 8.78, 7.64, 2.28, 0, 5.36, 1.94, 4.68, 3.54, 10.04, 8.90, 8.56, 5.14, 12.78, 4.80],\n",
        "      [1.94, 3.54, 8.10, 5.02, 3.88, 3.08, 5.36, 0, 3.42, 3.88, 7.30, 4.68, 3.54, 3.20, 6.62, 7.42, 8.56],\n",
        "      [3.08, 6.96, 4.68, 8.44, 7.30, 1.94, 1.94, 3.42, 0, 2.74, 3.88, 8.10, 6.96, 6.62, 3.20, 10.84, 5.14],\n",
        "      [1.94, 7.42, 7.42, 8.90, 7.76, 2.40, 4.68, 3.88, 2.74, 0, 3.42, 5.36, 4.22, 3.88, 2.74, 8.10, 4.68],\n",
        "      [5.36, 10.84, 4.00, 12.32, 11.18, 5.82, 3.54, 7.30, 3.88, 3.42, 0, 8.78, 7.64, 7.30, 3.88, 11.52, 3.54],\n",
        "      [5.02, 5.94, 12.78, 5.14, 4.00, 7.76, 10.04, 4.68, 8.10, 5.36, 8.78, 0, 1.14, 3.08, 6.50, 2.74, 8.44],\n",
        "      [3.88, 4.80, 11.64, 6.28, 5.14, 6.62, 8.90, 3.54, 6.96, 4.22, 7.64, 1.14, 0, 1.94, 5.36, 3.88, 7.30],\n",
        "      [3.54, 6.74, 11.30, 8.22, 7.08, 6.28, 8.56, 3.20, 6.62, 3.88, 7.30, 3.08, 1.94, 0, 3.42, 4.22, 5.36],\n",
        "      [4.68, 10.16, 7.88, 11.64, 10.50, 5.14, 5.14, 6.62, 3.20, 2.74, 3.88, 6.50, 5.36, 3.42, 0, 7.64, 1.94],\n",
        "      [7.76, 8.68, 15.52, 5.60, 6.74, 10.50, 12.78, 7.42, 10.84, 8.10, 11.52, 2.74, 3.88, 4.22, 7.64, 0, 7.98],\n",
        "      [6.62, 12.10, 7.54, 13.58, 12.44, 7.08, 4.80, 8.56, 5.14, 4.68, 3.54, 8.44, 7.30, 5.36, 1.94, 7.98, 0]\n",
        "    ] #(in km)\n",
        "flower_market_id = 0\n",
        "demands = [0, 100, 100, 200, 400, 200, 400, 800, 800, 100, 200, 100, 200, 400, 400, 800, 800]\n",
        "\n",
        "# max  grade 8\n",
        "num_couriers = 4\n",
        "salary_per_km = 100\n",
        "courier_max_load = [2500, 2000, 1000, 500]"
      ]
    },
    {
      "cell_type": "code",
      "execution_count": null,
      "id": "9546bb02-6089-4235-9f56-96f21932b6ea",
      "metadata": {
        "id": "9546bb02-6089-4235-9f56-96f21932b6ea",
        "outputId": "c840fe16-122f-4107-9da5-73068e054c86"
      },
      "outputs": [
        {
          "data": {
            "text/plain": [
              "17"
            ]
          },
          "execution_count": 222,
          "metadata": {},
          "output_type": "execute_result"
        }
      ],
      "source": [
        "len(distance_matrix[0])\n",
        "len(demands)"
      ]
    },
    {
      "cell_type": "code",
      "execution_count": null,
      "id": "a705f190-6a64-4893-8d00-c31466c4038d",
      "metadata": {
        "id": "a705f190-6a64-4893-8d00-c31466c4038d"
      },
      "outputs": [],
      "source": []
    }
  ],
  "metadata": {
    "colab": {
      "provenance": []
    },
    "kernelspec": {
      "display_name": "Python 3 (ipykernel)",
      "language": "python",
      "name": "python3"
    },
    "language_info": {
      "codemirror_mode": {
        "name": "ipython",
        "version": 3
      },
      "file_extension": ".py",
      "mimetype": "text/x-python",
      "name": "python",
      "nbconvert_exporter": "python",
      "pygments_lexer": "ipython3",
      "version": "3.12.1"
    }
  },
  "nbformat": 4,
  "nbformat_minor": 5
}
